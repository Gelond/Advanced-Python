{
 "cells": [
  {
   "cell_type": "markdown",
   "id": "1d57264a",
   "metadata": {},
   "source": [
    "## 1. Simple Thread Creation\n",
    "\n",
    "Create a simple program that uses threading to print numbers from 1 to 5 in two separate threads."
   ]
  },
  {
   "cell_type": "code",
   "execution_count": 1,
   "id": "0fb3360f",
   "metadata": {},
   "outputs": [
    {
     "name": "stdout",
     "output_type": "stream",
     "text": [
      "1\n",
      "2\n",
      "3\n",
      "4\n",
      "5\n",
      "1\n",
      "2\n",
      "3\n",
      "4\n",
      "5\n",
      "\n",
      "Fin d'exécuition. Le temps d'exécuition des treads est  0.0026314000133424997\n"
     ]
    }
   ],
   "source": [
    "# your code here\n",
    "\n",
    "from multiprocessing import Process, Value\n",
    "from math import sqrt\n",
    "import time\n",
    "import threading\n",
    "\n",
    "n = 5\n",
    "\n",
    "def print_numbers():\n",
    "    for i in range(5):\n",
    "        #time.sleep(0.1)\n",
    "        print(i+1)\n",
    "        \n",
    "start_time = time.perf_counter()\n",
    "\n",
    "# Creation des threads\n",
    "thread1 = threading.Thread(target=print_numbers)\n",
    "thread2 = threading.Thread(target=print_numbers)\n",
    "\n",
    "# Start the threads\n",
    "thread1.start()\n",
    "thread2.start()\n",
    "\n",
    "# Wait for both threads to finish\n",
    "thread1.join()\n",
    "thread2.join()\n",
    "\n",
    "end_time = time.perf_counter()\n",
    "\n",
    "print(\"\\nFin d'exécuition. Le temps d'exécuition des treads est \", end_time - start_time)"
   ]
  },
  {
   "cell_type": "markdown",
   "id": "a8d8ab14",
   "metadata": {},
   "source": [
    "## 2. Thread Synchronization\n",
    "\n",
    "Modify the program from Exercise 1 to use locks to synchronize the two threads and ensure that they print numbers alternately."
   ]
  },
  {
   "cell_type": "code",
   "execution_count": 4,
   "id": "c3dbaf9d",
   "metadata": {},
   "outputs": [
    {
     "name": "stdout",
     "output_type": "stream",
     "text": [
      "Thread-2: 1\n",
      "Thread-1: 2\n",
      "Thread-2: 3\n",
      "Thread-1: 4\n",
      "Thread-2: 5\n",
      "\n",
      "Fin d'exécution. Le temps d'exécution des threads est  0.009255899989511818\n"
     ]
    }
   ],
   "source": [
    "# your code here\n",
    "\n",
    "lock = threading.Lock()\n",
    "number = 1\n",
    "condition = threading.Condition()\n",
    "\n",
    "def print_numbers():\n",
    "    global number\n",
    "    for i in range(5):\n",
    "        with condition:\n",
    "            if number < 5:\n",
    "                while number % 2 != int(threading.current_thread().name[-1]) - 1:\n",
    "                    condition.wait()\n",
    "                print(f\"{threading.current_thread().name}: {number}\")\n",
    "                number += 1\n",
    "                condition.notify_all()\n",
    "\n",
    "start_time = time.perf_counter()\n",
    "\n",
    "# Create threads\n",
    "thread1 = threading.Thread(target=print_numbers, name=\"Thread-1\")\n",
    "thread2 = threading.Thread(target=print_numbers, name=\"Thread-2\")\n",
    "\n",
    "# Start the threads\n",
    "thread1.start()\n",
    "thread2.start()\n",
    "\n",
    "# Wait for both threads to finish\n",
    "thread1.join()\n",
    "thread2.join()\n",
    "\n",
    "end_time = time.perf_counter()\n",
    "\n",
    "print(\"\\nFin d'exécution. Le temps d'exécution des threads est \", end_time - start_time)\n"
   ]
  },
  {
   "cell_type": "markdown",
   "id": "8d45fee2",
   "metadata": {},
   "source": [
    "## 3. Thread Pooling\n",
    "\n",
    "Use the `concurrent.futures.ThreadPoolExecutor` module to create a thread pool and parallelize a task (e.g., calculating the square of numbers) among multiple threads.\n",
    "\n",
    "```python\n",
    "numbers = [1, 2, 3, 4, 5]\n",
    "```"
   ]
  },
  {
   "cell_type": "code",
   "execution_count": 49,
   "id": "0379e5e9",
   "metadata": {},
   "outputs": [
    {
     "name": "stdout",
     "output_type": "stream",
     "text": [
      "Original numbers: [1, 2, 3, 4, 5]\n",
      "Squared numbers: [1, 4, 9, 16, 25]\n"
     ]
    }
   ],
   "source": [
    "# your code here\n",
    "\n",
    "import concurrent.futures\n",
    "\n",
    "def square_numbers(number):\n",
    "    return number**2\n",
    "\n",
    "numbers = [1, 2, 3, 4, 5]\n",
    "\n",
    "# Using ThreadPoolExecutor\n",
    "with concurrent.futures.ThreadPoolExecutor() as executor:\n",
    "    \n",
    "    squares = list(executor.map(square_numbers, numbers))\n",
    "\n",
    "print(\"Original numbers:\", numbers)\n",
    "print(\"Squared numbers:\", squares)\n"
   ]
  },
  {
   "cell_type": "markdown",
   "id": "aacf816a",
   "metadata": {},
   "source": [
    "## 4. Thread with Function Arguments\n",
    "\n",
    "```python\n",
    "\n",
    "import threading\n",
    "import time\n",
    "\n",
    "def print_hello():\n",
    "    for _ in range(5):\n",
    "        print(\"Hello, \", end='')\n",
    "        time.sleep(0.1)\n",
    "\n",
    "def print_world():\n",
    "    for _ in range(5):\n",
    "        print(\"World!\")\n",
    "        time.sleep(0.1)\n",
    "\n",
    "# Create two threads\n",
    "thread1 = threading.Thread(target=print_hello)\n",
    "thread2 = threading.Thread(target=print_world)\n",
    "\n",
    "# Start the threads\n",
    "thread1.start()\n",
    "thread2.start()\n",
    "\n",
    "# Wait for both threads to finish\n",
    "thread1.join()\n",
    "thread2.join()\n",
    "```\n",
    "\n",
    "Modify this program to pass an argument to the threads and print the thread's name along with the message."
   ]
  },
  {
   "cell_type": "code",
   "execution_count": 3,
   "id": "d7fd05ee",
   "metadata": {},
   "outputs": [
    {
     "name": "stdout",
     "output_type": "stream",
     "text": [
      "Thread-1 : Hello, \n",
      "Thread-2 : World!\n",
      "Thread-2 : World!\n",
      "Thread-1 : Hello, \n",
      "Thread-2 : World!\n",
      "Thread-1 : Hello, \n",
      "Thread-1 : Hello, \n",
      "Thread-2 : World!\n",
      "Thread-2 : World!\n",
      "Thread-1 : Hello, \n"
     ]
    }
   ],
   "source": [
    "#your code here\n",
    "\n",
    "def print_hello():\n",
    "    for _ in range(5):\n",
    "        print(f\"{threading.current_thread().name} :\", \"Hello, \")\n",
    "        #print(\"Hello, \", end='')\n",
    "        time.sleep(0.1)\n",
    "\n",
    "def print_world():\n",
    "    for _ in range(5):\n",
    "        print(f\"{threading.current_thread().name} :\", \"World!\")\n",
    "        #print(\"World!\")\n",
    "        time.sleep(0.1)\n",
    "\n",
    "# Create two threads\n",
    "#thread1 = threading.Thread(target=print_hello)\n",
    "#thread2 = threading.Thread(target=print_world)\n",
    "thread1 = threading.Thread(target=print_hello,  name=\"Thread-1\")\n",
    "thread2 = threading.Thread(target=print_world, name=\"Thread-2\")\n",
    "\n",
    "\n",
    "# Start the threads\n",
    "thread1.start()\n",
    "thread2.start()\n",
    "\n",
    "# Wait for both threads to finish\n",
    "thread1.join()\n",
    "thread2.join()"
   ]
  },
  {
   "cell_type": "code",
   "execution_count": 13,
   "id": "d2fbff02",
   "metadata": {},
   "outputs": [
    {
     "name": "stdout",
     "output_type": "stream",
     "text": [
      "Final Counter Value: 2000000\n"
     ]
    }
   ],
   "source": []
  }
 ],
 "metadata": {
  "kernelspec": {
   "display_name": "Python 3 (ipykernel)",
   "language": "python",
   "name": "python3"
  },
  "language_info": {
   "codemirror_mode": {
    "name": "ipython",
    "version": 3
   },
   "file_extension": ".py",
   "mimetype": "text/x-python",
   "name": "python",
   "nbconvert_exporter": "python",
   "pygments_lexer": "ipython3",
   "version": "3.10.9"
  }
 },
 "nbformat": 4,
 "nbformat_minor": 5
}
