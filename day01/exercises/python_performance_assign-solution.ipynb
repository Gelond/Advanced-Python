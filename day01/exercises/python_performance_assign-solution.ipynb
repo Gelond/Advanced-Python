{
 "cells": [
  {
   "cell_type": "markdown",
   "id": "9e8892ba",
   "metadata": {},
   "source": [
    "<h1 align=\"center\">Python performance exercises</h1>"
   ]
  },
  {
   "cell_type": "markdown",
   "id": "282983fc",
   "metadata": {},
   "source": [
    "## Python best practices exercises"
   ]
  },
  {
   "cell_type": "markdown",
   "id": "5efcd4d3",
   "metadata": {},
   "source": [
    "### Exercise 1\n",
    "\n",
    "considering the following function for concatenating list strings with delimiter."
   ]
  },
  {
   "cell_type": "code",
   "execution_count": 364,
   "id": "c4a85c94",
   "metadata": {},
   "outputs": [],
   "source": [
    "import numpy as np"
   ]
  },
  {
   "cell_type": "code",
   "execution_count": 365,
   "id": "8d029815",
   "metadata": {},
   "outputs": [],
   "source": [
    "def ft_concatenate(l_strings, d):\n",
    "    \"\"\"concatenate list of strings into one string separated by delimiter\"\"\"\n",
    "    res = l_strings[0]\n",
    "    for e in l_strings[1:]:\n",
    "        res = res + d + e\n",
    "    return res"
   ]
  },
  {
   "cell_type": "markdown",
   "id": "18ae5106",
   "metadata": {},
   "source": [
    "- profile the function and identify the bottlenecks.\n",
    "- improve speed up of the function\n",
    "*Hint: you may need to look to the string functions in python documentation*"
   ]
  },
  {
   "cell_type": "code",
   "execution_count": 366,
   "id": "024f9b98",
   "metadata": {},
   "outputs": [],
   "source": [
    "# write your code here\n",
    "\n",
    "import random\n",
    "import string\n",
    "import timeit\n",
    "\n",
    "def generate_strings():\n",
    "    n = 10000\n",
    "    length = 10\n",
    "    random_strings = []\n",
    "\n",
    "    for _ in range(n):\n",
    "        random_string = ''.join(random.choice(string.ascii_letters + string.digits) for _ in range(length))\n",
    "        random_strings.append(random_string)\n",
    "\n",
    "    return random_strings\n",
    "    \n",
    "random_strings=generate_strings()\n",
    "d = \" \"\n"
   ]
  },
  {
   "cell_type": "code",
   "execution_count": 367,
   "id": "25579ce4",
   "metadata": {},
   "outputs": [
    {
     "name": "stdout",
     "output_type": "stream",
     "text": [
      "51.2 ms ± 3.34 ms per loop (mean ± std. dev. of 7 runs, 10 loops each)\n"
     ]
    }
   ],
   "source": [
    "%timeit ft_concatenate(random_strings,d)"
   ]
  },
  {
   "cell_type": "code",
   "execution_count": 368,
   "id": "3f91895f",
   "metadata": {},
   "outputs": [
    {
     "name": "stdout",
     "output_type": "stream",
     "text": [
      " "
     ]
    }
   ],
   "source": [
    "%prun -s cumulative ft_concatenate(random_strings,d)"
   ]
  },
  {
   "cell_type": "code",
   "execution_count": 369,
   "id": "71db2319",
   "metadata": {},
   "outputs": [
    {
     "name": "stdout",
     "output_type": "stream",
     "text": [
      "         4 function calls in 0.081 seconds\n",
      "\n",
      "   Ordered by: cumulative time\n",
      "\n",
      "   ncalls  tottime  percall  cumtime  percall filename:lineno(function)\n",
      "        1    0.000    0.000    0.081    0.081 {built-in method builtins.exec}\n",
      "        1    0.000    0.000    0.081    0.081 <string>:1(<module>)\n",
      "        1    0.081    0.081    0.081    0.081 2524129870.py:1(ft_concatenate)\n",
      "        1    0.000    0.000    0.000    0.000 {method 'disable' of '_lsprof.Profiler' objects}\n",
      "\n",
      "\n"
     ]
    }
   ],
   "source": [
    "import cProfile\n",
    "cProfile.run(\"ft_concatenate(random_strings,d)\", sort=\"cumulative\")"
   ]
  },
  {
   "cell_type": "code",
   "execution_count": 370,
   "id": "f18f15f3",
   "metadata": {},
   "outputs": [
    {
     "name": "stdout",
     "output_type": "stream",
     "text": [
      "Requirement already satisfied: line_profiler in c:\\users\\admin\\anaconda3\\lib\\site-packages (4.1.2)Note: you may need to restart the kernel to use updated packages.\n",
      "\n"
     ]
    }
   ],
   "source": [
    "pip install line_profiler"
   ]
  },
  {
   "cell_type": "code",
   "execution_count": 371,
   "id": "e685cd52",
   "metadata": {},
   "outputs": [
    {
     "name": "stdout",
     "output_type": "stream",
     "text": [
      "The line_profiler extension is already loaded. To reload it, use:\n",
      "  %reload_ext line_profiler\n"
     ]
    }
   ],
   "source": [
    "%load_ext line_profiler\n",
    "%lprun -f ft_concatenate ft_concatenate(random_strings,d)"
   ]
  },
  {
   "cell_type": "code",
   "execution_count": 372,
   "id": "a18ba2ed",
   "metadata": {},
   "outputs": [
    {
     "name": "stdout",
     "output_type": "stream",
     "text": [
      "Requirement already satisfied: memory_profiler in c:\\users\\admin\\anaconda3\\lib\\site-packages (0.61.0)\n",
      "Requirement already satisfied: psutil in c:\\users\\admin\\anaconda3\\lib\\site-packages (from memory_profiler) (5.9.0)\n",
      "Note: you may need to restart the kernel to use updated packages.\n"
     ]
    }
   ],
   "source": [
    "pip install memory_profiler"
   ]
  },
  {
   "cell_type": "code",
   "execution_count": 373,
   "id": "bec7ef3c",
   "metadata": {},
   "outputs": [
    {
     "name": "stdout",
     "output_type": "stream",
     "text": [
      "The memory_profiler extension is already loaded. To reload it, use:\n",
      "  %reload_ext memory_profiler\n"
     ]
    }
   ],
   "source": [
    " %load_ext memory_profiler"
   ]
  },
  {
   "cell_type": "code",
   "execution_count": 374,
   "id": "f323a8c4",
   "metadata": {},
   "outputs": [],
   "source": [
    "%lprun -f ft_concatenate ft_concatenate(random_strings, d)"
   ]
  },
  {
   "cell_type": "code",
   "execution_count": 375,
   "id": "6cf63c5c",
   "metadata": {},
   "outputs": [],
   "source": [
    "from memory_profiler import profile"
   ]
  },
  {
   "cell_type": "code",
   "execution_count": 376,
   "id": "af50adc7",
   "metadata": {},
   "outputs": [],
   "source": [
    "@profile\n",
    "def ft_concatenate(l_strings, d):\n",
    "    \"\"\"concatenate list of strings into one string separated by delimiter\"\"\"\n",
    "    res = l_strings[0]\n",
    "    for e in l_strings[1:]:\n",
    "        res = res + d + e\n",
    "    return res"
   ]
  },
  {
   "cell_type": "code",
   "execution_count": 377,
   "id": "1928d3e7",
   "metadata": {},
   "outputs": [
    {
     "name": "stderr",
     "output_type": "stream",
     "text": [
      "[NbConvertApp] Converting notebook python_performance_assign-Copy1.ipynb to script\n",
      "[NbConvertApp] Writing 12191 bytes to python_performance_assign-Copy1.py\n"
     ]
    }
   ],
   "source": [
    "!jupyter nbconvert --to script python_performance_assign-Copy1.ipynb"
   ]
  },
  {
   "cell_type": "code",
   "execution_count": 378,
   "id": "31e34d77",
   "metadata": {},
   "outputs": [],
   "source": [
    "def ft_concatenate(l_strings, d):\n",
    "    \"\"\"concatenate list of strings into one string separated by delimiter\"\"\"\n",
    "    res = d.join(l_strings)\n",
    "    return res\n"
   ]
  },
  {
   "cell_type": "code",
   "execution_count": 379,
   "id": "fc89172a",
   "metadata": {},
   "outputs": [
    {
     "name": "stdout",
     "output_type": "stream",
     "text": [
      "298 µs ± 24.5 µs per loop (mean ± std. dev. of 7 runs, 10,000 loops each)\n"
     ]
    }
   ],
   "source": [
    "%timeit ft_concatenate(random_strings,d)"
   ]
  },
  {
   "cell_type": "markdown",
   "id": "554e4d1d",
   "metadata": {},
   "source": [
    "### Exercise 2\n",
    "\n",
    "In this exercise you will solve the following problem using two methods bruteforce method, and fast method.\n",
    "\n",
    "**Problem:** You are given a list of n integers, and your task is to calculate the number of distinct values in the list.\n",
    "\n",
    "**Example**\n",
    "- Input:\n",
    "5\n",
    "2 3 2 2 3\n",
    "\n",
    "- Output:\n",
    "2\n",
    "\n",
    "**Implement the following methods:**\n",
    "\n",
    "1. **bruteforce method:** create an empty list and start adding items for the given list without adding the previous item add, at the end the result list will contain unique values, print lenght of the list and you are done. \n",
    "2. **fast method** think of using Set data structure.\n",
    "\n",
    "- time the two methods, what do you think?"
   ]
  },
  {
   "cell_type": "code",
   "execution_count": 380,
   "id": "5ce51fb1",
   "metadata": {},
   "outputs": [],
   "source": [
    "import time"
   ]
  },
  {
   "cell_type": "code",
   "execution_count": 381,
   "id": "f59fffb9",
   "metadata": {},
   "outputs": [],
   "source": [
    "# bruteforce method\n",
    "def bruteforce_method(arr):\n",
    "    unique_values = []\n",
    "    for i in arr:\n",
    "        if i not in unique_values:\n",
    "            unique_values.append(i)\n",
    "    return len(unique_values)"
   ]
  },
  {
   "cell_type": "code",
   "execution_count": 382,
   "id": "c4b526d9",
   "metadata": {},
   "outputs": [
    {
     "data": {
      "text/plain": [
       "2"
      ]
     },
     "execution_count": 382,
     "metadata": {},
     "output_type": "execute_result"
    }
   ],
   "source": [
    "list = [2,3,2,2,3]\n",
    "bruteforce_method(list)"
   ]
  },
  {
   "cell_type": "code",
   "execution_count": 383,
   "id": "4525cb5f",
   "metadata": {},
   "outputs": [],
   "source": [
    "# fast method\n",
    "def fast_method(arr):\n",
    "    return len(set(arr))"
   ]
  },
  {
   "cell_type": "code",
   "execution_count": 384,
   "id": "6888749d",
   "metadata": {},
   "outputs": [
    {
     "data": {
      "text/plain": [
       "2"
      ]
     },
     "execution_count": 384,
     "metadata": {},
     "output_type": "execute_result"
    }
   ],
   "source": [
    "fast_method(list)"
   ]
  },
  {
   "cell_type": "code",
   "execution_count": 385,
   "id": "68b41519",
   "metadata": {},
   "outputs": [],
   "source": [
    "# Create a random list of numbers for testing\n",
    "n = 1000\n",
    "random_list = [random.randint(1,100) for i in range(n)]\n"
   ]
  },
  {
   "cell_type": "code",
   "execution_count": 386,
   "id": "b7998a18",
   "metadata": {},
   "outputs": [
    {
     "name": "stdout",
     "output_type": "stream",
     "text": [
      "1.29 ms ± 261 µs per loop (mean ± std. dev. of 7 runs, 1,000 loops each)\n"
     ]
    }
   ],
   "source": [
    "# time the two methods\n",
    "%timeit bruteforce_method(random_list)\n"
   ]
  },
  {
   "cell_type": "code",
   "execution_count": 387,
   "id": "793fc755",
   "metadata": {},
   "outputs": [
    {
     "name": "stdout",
     "output_type": "stream",
     "text": [
      "28.6 µs ± 7.34 µs per loop (mean ± std. dev. of 7 runs, 10,000 loops each)\n"
     ]
    }
   ],
   "source": [
    "%timeit fast_method(random_list)\n"
   ]
  },
  {
   "cell_type": "markdown",
   "id": "2105bddb",
   "metadata": {},
   "source": [
    "## Cython exercises"
   ]
  },
  {
   "cell_type": "markdown",
   "id": "a343b5a2",
   "metadata": {},
   "source": [
    "### Exercise 1"
   ]
  },
  {
   "cell_type": "markdown",
   "id": "ace90d17",
   "metadata": {},
   "source": [
    "1. load the cython extension."
   ]
  },
  {
   "cell_type": "code",
   "execution_count": 388,
   "id": "d380d0a3",
   "metadata": {},
   "outputs": [
    {
     "name": "stdout",
     "output_type": "stream",
     "text": [
      "Requirement already satisfied: cython in c:\\users\\admin\\anaconda3\\lib\\site-packages (3.0.5)\n"
     ]
    }
   ],
   "source": [
    "!pip install cython\n"
   ]
  },
  {
   "cell_type": "code",
   "execution_count": 389,
   "id": "271e6d82",
   "metadata": {},
   "outputs": [
    {
     "name": "stdout",
     "output_type": "stream",
     "text": [
      "The Cython extension is already loaded. To reload it, use:\n",
      "  %reload_ext Cython\n"
     ]
    }
   ],
   "source": [
    "%load_ext Cython"
   ]
  },
  {
   "cell_type": "markdown",
   "id": "e88067aa",
   "metadata": {},
   "source": [
    "2. Considering the following polynomial function:"
   ]
  },
  {
   "cell_type": "code",
   "execution_count": 390,
   "id": "134d0004",
   "metadata": {},
   "outputs": [],
   "source": [
    "def poly(a,b):\n",
    "    return 10.5 * a + 3 * (b**2)"
   ]
  },
  {
   "cell_type": "markdown",
   "id": "b42c590f",
   "metadata": {},
   "source": [
    "- Create an equivalent Cython function of `poly` with name `poly_cy`."
   ]
  },
  {
   "cell_type": "code",
   "execution_count": 393,
   "id": "5df4d3c2",
   "metadata": {},
   "outputs": [],
   "source": [
    "%%cython\n",
    "cdef float poly_cy(double a, double b):\n",
    "    return 10.5 * a + 3 * (b**2)\n"
   ]
  },
  {
   "cell_type": "markdown",
   "id": "20771017",
   "metadata": {},
   "source": [
    "3. time the performance of Python and Cython version of the function, what is the factor of speed up between the two verions."
   ]
  },
  {
   "cell_type": "code",
   "execution_count": 394,
   "id": "0f360ffd",
   "metadata": {},
   "outputs": [],
   "source": [
    "a=100\n",
    "b=256"
   ]
  },
  {
   "cell_type": "code",
   "execution_count": 395,
   "id": "46373e13",
   "metadata": {},
   "outputs": [
    {
     "name": "stdout",
     "output_type": "stream",
     "text": [
      "1.17 µs ± 212 ns per loop (mean ± std. dev. of 7 runs, 1,000,000 loops each)\n"
     ]
    }
   ],
   "source": [
    "# write your code here\n",
    "\n",
    "%timeit poly(a,b)\n"
   ]
  },
  {
   "cell_type": "code",
   "execution_count": 396,
   "id": "f7f3aa1e",
   "metadata": {},
   "outputs": [
    {
     "name": "stdout",
     "output_type": "stream",
     "text": [
      "256 ns ± 27.8 ns per loop (mean ± std. dev. of 7 runs, 1,000,000 loops each)\n"
     ]
    }
   ],
   "source": [
    "%timeit poly_cy(a,b)\n"
   ]
  },
  {
   "cell_type": "markdown",
   "id": "6c590ba1",
   "metadata": {},
   "source": [
    "4. Now let's work on another example using loop.\n",
    "    - rewrite the same function below fib that calculates the fibonacci sequence using cython, but now try to add type for the variables used inside it, add a prefix `_cy` to your new cython function."
   ]
  },
  {
   "cell_type": "code",
   "execution_count": 397,
   "id": "6e780a2a",
   "metadata": {},
   "outputs": [],
   "source": [
    "def fib(n):\n",
    "    a, b = 1, 1\n",
    "    for i in range(n):\n",
    "        a, b = a + b, a\n",
    "\n",
    "    return a"
   ]
  },
  {
   "cell_type": "code",
   "execution_count": 398,
   "id": "60e593fe",
   "metadata": {},
   "outputs": [
    {
     "name": "stdout",
     "output_type": "stream",
     "text": [
      "The Cython extension is already loaded. To reload it, use:\n",
      "  %reload_ext Cython\n"
     ]
    }
   ],
   "source": [
    "%load_ext Cython"
   ]
  },
  {
   "cell_type": "code",
   "execution_count": 399,
   "id": "679ef27d",
   "metadata": {},
   "outputs": [
    {
     "name": "stdout",
     "output_type": "stream",
     "text": [
      "Content of stdout:\n",
      "_cython_magic_a76b9b6228b1cf0af9c990237ca5d30dc44ce0c1.c\r\n",
      "   Création de la bibliothèque C:\\Users\\ADMIN\\.ipython\\cython\\Users\\ADMIN\\.ipython\\cython\\_cython_magic_a76b9b6228b1cf0af9c990237ca5d30dc44ce0c1.cp310-win_amd64.lib et de l'objet C:\\Users\\ADMIN\\.ipython\\cython\\Users\\ADMIN\\.ipython\\cython\\_cython_magic_a76b9b6228b1cf0af9c990237ca5d30dc44ce0c1.cp310-win_amd64.exp\r\n",
      "Génération de code en cours\r\n",
      "Fin de la génération du code"
     ]
    }
   ],
   "source": [
    "%%cython\n",
    "cdef int fib_cy(int n):\n",
    "    cdef int a, b, i\n",
    "    a = 0\n",
    "    b = 1\n",
    "    for i in range(n):\n",
    "        a, b = a + b, a\n",
    "\n",
    "    return a"
   ]
  },
  {
   "cell_type": "markdown",
   "id": "50e3fdc9",
   "metadata": {},
   "source": [
    "- time the two function for fibonacci series, with n = 20, what is the factor of speed now, What do you think?"
   ]
  },
  {
   "cell_type": "code",
   "execution_count": 400,
   "id": "927688e1",
   "metadata": {},
   "outputs": [],
   "source": [
    "n = 20"
   ]
  },
  {
   "cell_type": "code",
   "execution_count": 401,
   "id": "d90a83ed",
   "metadata": {},
   "outputs": [
    {
     "name": "stdout",
     "output_type": "stream",
     "text": [
      "3.92 µs ± 449 ns per loop (mean ± std. dev. of 7 runs, 100,000 loops each)\n"
     ]
    }
   ],
   "source": [
    "# write your code here\n",
    "%timeit fib(n)"
   ]
  },
  {
   "cell_type": "code",
   "execution_count": 402,
   "id": "03c70a29",
   "metadata": {},
   "outputs": [
    {
     "name": "stdout",
     "output_type": "stream",
     "text": [
      "203 ns ± 27.4 ns per loop (mean ± std. dev. of 7 runs, 1,000,000 loops each)\n"
     ]
    }
   ],
   "source": [
    "%timeit fib_cy(n)"
   ]
  },
  {
   "cell_type": "markdown",
   "id": "6597443f",
   "metadata": {},
   "source": [
    "5. Recursive functions are functions that call themselves during their execution. Another interesting property of the Fibonacci sequence is that it can be written as a recursive function. That’s because each item depends on the values of other items (namely item n-1 and item n-2)\n",
    "\n",
    "- Rewrite the fib function using recursion. Is it faster than the non-recursive version? Does Cythonizing it give even more of an advantage? "
   ]
  },
  {
   "cell_type": "code",
   "execution_count": 403,
   "id": "dc765886",
   "metadata": {},
   "outputs": [
    {
     "data": {
      "text/plain": [
       "13"
      ]
     },
     "execution_count": 403,
     "metadata": {},
     "output_type": "execute_result"
    }
   ],
   "source": [
    "# write your code here\n",
    "def fib_rec(n):\n",
    "    if n == 0 or n == 1:\n",
    "        return n\n",
    "    else: return fib_rec(n-1) + fib_rec(n-2)\n",
    "fib_rec(7)"
   ]
  },
  {
   "cell_type": "code",
   "execution_count": 404,
   "id": "43c0a61f",
   "metadata": {},
   "outputs": [],
   "source": [
    "%%cython\n",
    "cdef int fib_rec_cy(int n):\n",
    "    if n==0 or n==1:\n",
    "        return n\n",
    "    else:\n",
    "        return fib_rec_cy(n-1) + fib_rec_cy(n-2)\n",
    "    "
   ]
  },
  {
   "cell_type": "code",
   "execution_count": 405,
   "id": "8004258d",
   "metadata": {},
   "outputs": [],
   "source": [
    "n = 20"
   ]
  },
  {
   "cell_type": "code",
   "execution_count": 406,
   "id": "e92964ff",
   "metadata": {},
   "outputs": [
    {
     "name": "stdout",
     "output_type": "stream",
     "text": [
      "8.94 ms ± 1.67 ms per loop (mean ± std. dev. of 7 runs, 100 loops each)\n"
     ]
    }
   ],
   "source": [
    "%timeit fib_rec(n)"
   ]
  },
  {
   "cell_type": "code",
   "execution_count": 407,
   "id": "5b63bdef",
   "metadata": {},
   "outputs": [
    {
     "name": "stdout",
     "output_type": "stream",
     "text": [
      "1.04 ms ± 265 µs per loop (mean ± std. dev. of 7 runs, 1,000 loops each)\n"
     ]
    }
   ],
   "source": [
    "%timeit fib_rec_cy(n)"
   ]
  },
  {
   "cell_type": "markdown",
   "id": "cdd229a8",
   "metadata": {},
   "source": [
    "### Exercise 2\n",
    "\n",
    "- Monte Carlo methods are a broad class of computational algorithms that rely on repeated random sampling to obtain numerical results. \n",
    "- One of the basic examples of getting started with the Monte Carlo algorithm is the estimation of Pi.\n",
    "\n",
    "**Estimation of Pi**\n",
    "\n",
    "- The idea is to simulate random (x, y) points in a 2-D plane with domain as a square of side 1 unit. \n",
    "- Imagine a circle inside the same domain with same diameter and inscribed into the square. \n",
    "- We then calculate the ratio of number points that lied inside the circle and total number of generated points. \n",
    "- Refer to the image below:\n",
    "\n",
    "![demo](../data/MonteCarloPlot.png)\n",
    "\n",
    "We know that area of the square is 1 unit sq while that of circle is $\\pi \\ast  (\\frac{1}{2})^{2} = \\frac{\\pi}{4}$. Now for a very large number of generated points,\n",
    "\n",
    "![demo](../data/MonteCarloCalc.png)\n",
    "\n",
    "\n",
    "## The Algorithm\n",
    "\n",
    "1. Initialize cile_points, square_points and interval to 0.\n",
    "2. Generate random point x.\n",
    "3. Generate random point y.\n",
    "4. Calculate d = x*x + y*y.\n",
    "5. If d <= 1, increment circle_points.\n",
    "6. Increment square_points.\n",
    "7. Increment interval.\n",
    "8. If increment < NO_OF_ITERATIONS, repeat from 2.\n",
    "9. Calculate pi = 4*(circle_points/square_points).\n",
    "10. Terminate."
   ]
  },
  {
   "cell_type": "markdown",
   "id": "71d23d4f",
   "metadata": {},
   "source": [
    "**Your mission:** time the function `monte_carlo_pi`, identify the bottlenecks and create a new version using cython functionality to speed up monte carlo simulation for PI, use 100,000 points and compare the speed up factor between python and cython, considering the following optimizations:\n",
    "- add type for variables used.\n",
    "- add type for the function\n",
    "- use c rand function instead of python rand function.\n",
    " \n",
    "*Hint: you can import function from C libraries using the following approach `from libc.<name of c library> cimport <library function name>`, replace the holders `<>` with the right identities for the current problem*"
   ]
  },
  {
   "cell_type": "code",
   "execution_count": 408,
   "id": "85006cfe",
   "metadata": {},
   "outputs": [],
   "source": [
    "import random\n",
    "def monte_carlo_pi(nsamples):\n",
    "    pi = 0.\n",
    "   # Implement your code here\n",
    "    \n",
    "    cile_points = 0\n",
    "    square_points = 0\n",
    "    increment = 0\n",
    "    while increment < nsamples:\n",
    "        d = 0.\n",
    "        x = random.uniform(-1.,1.)\n",
    "        y = random.uniform(-1.,1.)\n",
    "        d = x*x + y*y\n",
    "        if d <= 1:\n",
    "            cile_points+=1\n",
    "        square_points+=1\n",
    "        increment+=1\n",
    "            \n",
    "    pi = 4*(cile_points/square_points)\n",
    "    return pi"
   ]
  },
  {
   "cell_type": "code",
   "execution_count": 409,
   "id": "986285d9",
   "metadata": {},
   "outputs": [],
   "source": [
    "nsamples = 100000"
   ]
  },
  {
   "cell_type": "code",
   "execution_count": 410,
   "id": "ad9e07fb",
   "metadata": {},
   "outputs": [
    {
     "data": {
      "text/plain": [
       "3.14264"
      ]
     },
     "execution_count": 410,
     "metadata": {},
     "output_type": "execute_result"
    }
   ],
   "source": [
    "monte_carlo_pi(nsamples)"
   ]
  },
  {
   "cell_type": "code",
   "execution_count": 411,
   "id": "2d207c21",
   "metadata": {},
   "outputs": [],
   "source": [
    "%%cython\n",
    "from libc.stdlib cimport rand\n",
    "cdef float monte_carlo_pi_cy(int nsamples):\n",
    "    cdef int cile_points, square_points, increment\n",
    "    cdef float d, pi, x, y\n",
    "    pi = 0.\n",
    "    cile_points = 0\n",
    "    square_points = 0\n",
    "    \n",
    "    for increment in range(nsamples):\n",
    "        d = 0.\n",
    "        x = rand()\n",
    "        y = rand()\n",
    "        d = x*x + y*y\n",
    "        if d <= 1: cile_points+=1\n",
    "        square_points+=1\n",
    "        \n",
    "    pi = 4*(cile_points/square_points)\n",
    "    return pi"
   ]
  },
  {
   "cell_type": "code",
   "execution_count": 412,
   "id": "d8674f7f",
   "metadata": {},
   "outputs": [
    {
     "name": "stdout",
     "output_type": "stream",
     "text": [
      "237 ms ± 9.77 ms per loop (mean ± std. dev. of 7 runs, 1 loop each)\n"
     ]
    }
   ],
   "source": [
    "%timeit monte_carlo_pi(nsamples)"
   ]
  },
  {
   "cell_type": "code",
   "execution_count": 413,
   "id": "e03e25d1",
   "metadata": {},
   "outputs": [
    {
     "name": "stdout",
     "output_type": "stream",
     "text": [
      "8.36 ms ± 1.79 ms per loop (mean ± std. dev. of 7 runs, 100 loops each)\n"
     ]
    }
   ],
   "source": [
    "%timeit monte_carlo_pi_cy(nsamples)"
   ]
  },
  {
   "cell_type": "markdown",
   "id": "7cffad91",
   "metadata": {},
   "source": [
    "## Numba exercises"
   ]
  },
  {
   "cell_type": "markdown",
   "id": "5fb764ad",
   "metadata": {},
   "source": [
    "### Exercise 1\n",
    "\n",
    "Previously we considered how to approximateby Monte Carlo.\n",
    "\n",
    "- Use the same idea here, but make the code efficient using Numba.\n",
    "- Compare speed with and without Numba when the sample size is large."
   ]
  },
  {
   "cell_type": "code",
   "execution_count": 416,
   "id": "e631d938",
   "metadata": {},
   "outputs": [],
   "source": [
    "from numba import njit"
   ]
  },
  {
   "cell_type": "code",
   "execution_count": 418,
   "id": "3b3720c0",
   "metadata": {},
   "outputs": [],
   "source": [
    "# Your code here\n",
    "@njit\n",
    "def monte_carlo_pi(nsamples):\n",
    "    pi = 0.\n",
    "   # Implement your code here\n",
    "    \n",
    "    cile_points = 0\n",
    "    square_points = 0\n",
    "    increment = 0\n",
    "    while increment < nsamples:\n",
    "        d = 0.\n",
    "        x = random.uniform(-1.,1.)\n",
    "        y = random.uniform(-1.,1.)\n",
    "        d = x*x + y*y\n",
    "        if d <= 1:\n",
    "            cile_points+=1\n",
    "        square_points+=1\n",
    "        increment+=1\n",
    "            \n",
    "    pi = 4*(cile_points/square_points)\n",
    "    return pi"
   ]
  },
  {
   "cell_type": "code",
   "execution_count": 419,
   "id": "de19d80e",
   "metadata": {},
   "outputs": [
    {
     "name": "stdout",
     "output_type": "stream",
     "text": [
      "2.99 ms ± 741 µs per loop (mean ± std. dev. of 7 runs, 1 loop each)\n"
     ]
    }
   ],
   "source": [
    "%timeit monte_carlo_pi(nsamples)"
   ]
  },
  {
   "cell_type": "markdown",
   "id": "08a72a33",
   "metadata": {},
   "source": [
    "### Exercise 2\n",
    "\n",
    "In the [Introduction to Quantitative Economics](https://python.quantecon.org/intro.html) with Python lecture series you can learn all about finite-state Markov chains.\n",
    "\n",
    "For now, let's just concentrate on simulating a very simple example of such a chain.\n",
    "\n",
    "Suppose that the volatility of returns on an asset can be in one of two regimes — high or low.\n",
    "\n",
    "The transition probabilities across states are as follows ![markov](../data/markov.png)\n",
    "\n",
    "For example, let the period length be one day, and suppose the current state is high.\n",
    "\n",
    "We see from the graph that the state tomorrow will be\n",
    "\n",
    "- high with probability 0.8\n",
    "\n",
    "- low with probability 0.2\n",
    "\n",
    "Your task is to simulate a sequence of daily volatility states according to this rule.\n",
    "\n",
    "Set the length of the sequence to `n = 1_000_000` and start in the high state.\n",
    "\n",
    "Implement a pure Python version and a Numba version, and compare speeds.\n",
    "\n",
    "To test your code, evaluate the fraction of time that the chain spends in the low state.\n",
    "\n",
    "If your code is correct, it should be about 2/3.\n",
    "\n",
    "Hints:\n",
    "\n",
    "- Represent the low state as 0 and the high state as 1.\n",
    "\n",
    "- If you want to store integers in a NumPy array and then apply JIT compilation, use `x = np.empty(n, dtype=np.int_)`.\n"
   ]
  },
  {
   "cell_type": "code",
   "execution_count": 708,
   "id": "a681b489",
   "metadata": {},
   "outputs": [],
   "source": [
    "import numpy as np\n",
    "\n",
    "def simulate_markov_chain(n):\n",
    "    states = np.empty(n, dtype=np.int_)\n",
    "    current_state = 1\n",
    "    states[0] = current_state\n",
    "    \n",
    "    for i in range(n-1):\n",
    "        if current_state == 1:\n",
    "            next_state = 0 if random.random()<0.8 else 1\n",
    "        else:\n",
    "            next_state = 1 if random.random()<0.2 else 0\n",
    "        \n",
    "        current_state = next_state\n",
    "        states[i+1] = current_state\n",
    "    return states"
   ]
  },
  {
   "cell_type": "code",
   "execution_count": 709,
   "id": "0b64d7ea",
   "metadata": {},
   "outputs": [],
   "source": [
    "n = 1000000"
   ]
  },
  {
   "cell_type": "code",
   "execution_count": 710,
   "id": "c7d6bf85",
   "metadata": {},
   "outputs": [
    {
     "data": {
      "text/plain": [
       "0.7991429999999999"
      ]
     },
     "execution_count": 710,
     "metadata": {},
     "output_type": "execute_result"
    }
   ],
   "source": [
    "1-np.mean(simulate_markov_chain(n))"
   ]
  },
  {
   "cell_type": "code",
   "execution_count": 711,
   "id": "3cf6cbaf",
   "metadata": {},
   "outputs": [],
   "source": [
    "@njit\n",
    "def simulate_markov_chain_numba(n):\n",
    "    states = np.empty(n, dtype=np.int_)\n",
    "    current_state = 1\n",
    "    states[0] = current_state\n",
    "    \n",
    "    for i in range(n-1):\n",
    "        if current_state == 1:\n",
    "            next_state = 0 if random.random()<0.8 else 1\n",
    "        else:\n",
    "            next_state = 1 if random.random()<0.2 else 0\n",
    "        \n",
    "        current_state = next_state\n",
    "        states[i+1] = current_state\n",
    "    return states\n"
   ]
  },
  {
   "cell_type": "code",
   "execution_count": 712,
   "id": "9e09d917",
   "metadata": {},
   "outputs": [
    {
     "name": "stdout",
     "output_type": "stream",
     "text": [
      "655 ms ± 161 ms per loop (mean ± std. dev. of 7 runs, 1 loop each)\n"
     ]
    }
   ],
   "source": [
    "%timeit simulate_markov_chain(n)"
   ]
  },
  {
   "cell_type": "code",
   "execution_count": 713,
   "id": "f3122c8b",
   "metadata": {},
   "outputs": [
    {
     "name": "stdout",
     "output_type": "stream",
     "text": [
      "25.5 ms ± 2.96 ms per loop (mean ± std. dev. of 7 runs, 1 loop each)\n"
     ]
    }
   ],
   "source": [
    "%timeit simulate_markov_chain_numba(n)"
   ]
  },
  {
   "cell_type": "code",
   "execution_count": 714,
   "id": "faa444a7",
   "metadata": {},
   "outputs": [],
   "source": [
    "def simulate_markov_chain2(n):\n",
    "    states = np.empty(n, dtype=np.int_)\n",
    "    current_state = 1\n",
    "    states[0] = current_state\n",
    "    \n",
    "    for i in range(n-1):\n",
    "        if current_state == 1:\n",
    "            next_state = np.random.choice([0,1], size=1, p=[0.8,0.2])\n",
    "        else:\n",
    "            next_state = np.random.choice([0,1], size=1, p=[0.9,0.1])\n",
    "        \n",
    "        current_state = next_state\n",
    "        states[i+1] = current_state\n",
    "    return states\n"
   ]
  },
  {
   "cell_type": "code",
   "execution_count": 715,
   "id": "5737521b",
   "metadata": {},
   "outputs": [
    {
     "data": {
      "text/plain": [
       "0.889151"
      ]
     },
     "execution_count": 715,
     "metadata": {},
     "output_type": "execute_result"
    }
   ],
   "source": [
    "1-np.mean(simulate_markov_chain2(n))"
   ]
  },
  {
   "cell_type": "code",
   "execution_count": 716,
   "id": "d9c4b233",
   "metadata": {},
   "outputs": [],
   "source": [
    "@njit\n",
    "def simulate_markov_chain2_numba(n):\n",
    "    states = np.empty(n, dtype=np.int_)\n",
    "    current_state = 1\n",
    "    states[0] = current_state\n",
    "    \n",
    "    for i in range(n-1):\n",
    "        if current_state == 1:\n",
    "            next_state = np.random.choice([0,1], size=1, p=[0.8,0.2])\n",
    "        else:\n",
    "            next_state = np.random.choice([0,1], size=1, p=[0.9,0.1])\n",
    "        \n",
    "        current_state = next_state\n",
    "        states[i+1] = current_state\n",
    "    return states"
   ]
  },
  {
   "cell_type": "code",
   "execution_count": 706,
   "id": "ecf2e612",
   "metadata": {},
   "outputs": [
    {
     "name": "stdout",
     "output_type": "stream",
     "text": [
      "1min 21s ± 3.08 s per loop (mean ± std. dev. of 7 runs, 1 loop each)\n"
     ]
    }
   ],
   "source": [
    "%timeit simulate_markov_chain2(n)"
   ]
  },
  {
   "cell_type": "code",
   "execution_count": null,
   "id": "bccc73de",
   "metadata": {},
   "outputs": [],
   "source": [
    "%timeit simulate_markov_chain2_numba(n)"
   ]
  }
 ],
 "metadata": {
  "hide_input": false,
  "kernelspec": {
   "display_name": "Python 3 (ipykernel)",
   "language": "python",
   "name": "python3"
  },
  "language_info": {
   "codemirror_mode": {
    "name": "ipython",
    "version": 3
   },
   "file_extension": ".py",
   "mimetype": "text/x-python",
   "name": "python",
   "nbconvert_exporter": "python",
   "pygments_lexer": "ipython3",
   "version": "3.10.9"
  }
 },
 "nbformat": 4,
 "nbformat_minor": 5
}
